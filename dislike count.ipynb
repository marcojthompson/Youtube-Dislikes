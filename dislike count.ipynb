{
 "cells": [
  {
   "cell_type": "code",
   "execution_count": 1,
   "id": "83f34258-e170-4f0e-85ef-60a9bdb92db1",
   "metadata": {},
   "outputs": [],
   "source": [
    "import requests as rq\n",
    "import json\n",
    "import numpy as np\n",
    "import pandas as pd \n",
    "\n",
    "#retrieves like count, dislike count, and view count for every video from the YouTube dislike extension and returns a json\n",
    "def retrieve_data(id):\n",
    "        url = \"https://returnyoutubedislikeapi.com/votes?videoId=%s\" % (id)\n",
    "        data = rq.get(url).json()\n",
    "        return data"
   ]
  },
  {
   "cell_type": "code",
   "execution_count": 2,
   "id": "a58f10c9-b71f-43ab-a00b-0b809a8e6161",
   "metadata": {},
   "outputs": [],
   "source": [
    "# IDs of videos\n",
    "id_list = [\"etrBno7mUE4\", \"dN2OogPSmqw\", \"zkBQF9QJLHY\", \"L3RZlibefcM\", \"vUCWNmu8MMU\", \"P0sufgentrk\", \"6Sxb2dKRi08\",\n",
    "           \"Q9aXfjE8SNs\", \"DTy7IaggUjc\", \"15sU1jyHQ5U\", \"cIpgI3rxk20\", \"jYagqQ5trMU\", \"jdCRAl1uQhk\", \"etbhj9iOdsU\",\n",
    "           \"BBbrLjcrTlw\", \"eAxWylM-zXQ\", \"yZSatlqk_0s\", \"5X43XRF0qoc\", \"j9kseiQmjEY\", \"IEmpYqIAivw\", \"1zJJy-I6aDw\", \n",
    "           \"8f9n5AVpVlw\", \"_1PSvqho8UE\", \"i8B2yLS0UgA\", \"EWtTdD2Ifmw\", \"dyRNKo8GqK0\", \"eAr8ReEUhM0\", \"CMpjg1-PEwM\",\n",
    "           \"Z1u-FmzTIQE\", \"bT-oDTcjL0o\", \"Bu1R1aslj1k\", \"9tAemoKKCpo\", \"F1kQmeIsCVs\", \"gwIhDdGwXxI\", \"shwOqeTAoKA\", \n",
    "           \"BerMWd8cjJA\", \"IgDVCm8p-Fw\", \"IBV-k9E0eHg\", \"xBSEMJDwvXk\", \"V8nNpVjpn_w\", \"V_hBEY17i54\", \"stcbKCsxkf8\", \n",
    "           \"SGO6IE4btSI\", \"qCdQiVd93AA\", \"oMif2tJs5q8\", \"MzQblqLzSF4\", \"mKZjDmaNtaE\", \"IG8LfZoMd_E\", \"gwiAdCliK14\", \n",
    "           \"DGvP3uIo7IE\", \"DEZGr4ix9So\", \"7n2-fVixIMc\", \"6PL5JDh6gG4\", \"4DOy5ybBHdM\", \"0DNZp5yGjDs\"]\n",
    "\n",
    "#retrieves data from all vidoes and loads into data_array \n",
    "data_array = []\n",
    "for id in id_list:\n",
    "    data = retrieve_data(id) #returns json data for the id \n",
    "    a= (data[\"id\"],data[\"likes\"], data[\"dislikes\"],data[\"viewCount\"])\n",
    "    data_array.append(a)\n",
    "\n",
    "#convert to np array then to pd dataframe \n",
    "numpy_array = np.array(data_array)\n",
    "df = pd.DataFrame(numpy_array, columns = ['ID','Likes','Dislikes','View Count'])\n",
    "\n",
    "#create csv file\n",
    "df.to_csv('dislike_data.csv')"
   ]
  },
  {
   "cell_type": "code",
   "execution_count": null,
   "id": "d33234db-70eb-49d1-ae1a-b80c78582834",
   "metadata": {},
   "outputs": [],
   "source": []
  }
 ],
 "metadata": {
  "kernelspec": {
   "display_name": "Python 3 (ipykernel)",
   "language": "python",
   "name": "python3"
  },
  "language_info": {
   "codemirror_mode": {
    "name": "ipython",
    "version": 3
   },
   "file_extension": ".py",
   "mimetype": "text/x-python",
   "name": "python",
   "nbconvert_exporter": "python",
   "pygments_lexer": "ipython3",
   "version": "3.8.10"
  }
 },
 "nbformat": 4,
 "nbformat_minor": 5
}
